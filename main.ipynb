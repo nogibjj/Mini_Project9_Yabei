{
  "cells": [
    {
      "cell_type": "markdown",
      "id": "f74d68a5-6169-4fc1-90f4-29c4c1136f18",
      "metadata": {
        "id": "f74d68a5-6169-4fc1-90f4-29c4c1136f18"
      },
      "source": [
        "# Mini Project9\n",
        "Author: Yabei Zeng"
      ]
    },
    {
      "cell_type": "code",
      "execution_count": 1,
      "id": "5e8847be-469e-4739-80eb-ee48a754450e",
      "metadata": {
        "id": "5e8847be-469e-4739-80eb-ee48a754450e"
      },
      "outputs": [],
      "source": [
        "import pandas as pd\n",
        "import numpy as np\n",
        "import seaborn as sns\n",
        "import matplotlib.pyplot as plt\n",
        "import warnings"
      ]
    },
    {
      "cell_type": "markdown",
      "id": "448c9048-427e-4200-aaf6-408479af96bd",
      "metadata": {
        "id": "448c9048-427e-4200-aaf6-408479af96bd"
      },
      "source": [
        "First, let us take look at the dataset"
      ]
    },
    {
      "cell_type": "code",
      "execution_count": 2,
      "id": "5106eb81-c4e9-4bf2-91ef-c773d5343bfb",
      "metadata": {
        "id": "5106eb81-c4e9-4bf2-91ef-c773d5343bfb"
      },
      "outputs": [],
      "source": [
        "path = 'https://raw.githubusercontent.com/yabeizeng1121/Mini_Project5/main/cars.csv'"
      ]
    },
    {
      "cell_type": "code",
      "execution_count": 3,
      "id": "UkWDXm6nlfW9",
      "metadata": {
        "colab": {
          "base_uri": "https://localhost:8080/",
          "height": 206
        },
        "id": "UkWDXm6nlfW9",
        "outputId": "59436b46-1707-4181-9d3c-89824c1c61c8"
      },
      "outputs": [
        {
          "data": {
            "text/html": [
              "<div>\n",
              "<style scoped>\n",
              "    .dataframe tbody tr th:only-of-type {\n",
              "        vertical-align: middle;\n",
              "    }\n",
              "\n",
              "    .dataframe tbody tr th {\n",
              "        vertical-align: top;\n",
              "    }\n",
              "\n",
              "    .dataframe thead th {\n",
              "        text-align: right;\n",
              "    }\n",
              "</style>\n",
              "<table border=\"1\" class=\"dataframe\">\n",
              "  <thead>\n",
              "    <tr style=\"text-align: right;\">\n",
              "      <th></th>\n",
              "      <th>Car</th>\n",
              "      <th>MPG</th>\n",
              "      <th>Cylinders</th>\n",
              "      <th>Displacement</th>\n",
              "      <th>Horsepower</th>\n",
              "      <th>Weight</th>\n",
              "      <th>Acceleration</th>\n",
              "      <th>Model</th>\n",
              "      <th>Origin</th>\n",
              "    </tr>\n",
              "  </thead>\n",
              "  <tbody>\n",
              "    <tr>\n",
              "      <th>0</th>\n",
              "      <td>Chevrolet Chevelle Malibu</td>\n",
              "      <td>18.0</td>\n",
              "      <td>8</td>\n",
              "      <td>307.0</td>\n",
              "      <td>130.0</td>\n",
              "      <td>3504.0</td>\n",
              "      <td>12.0</td>\n",
              "      <td>70</td>\n",
              "      <td>US</td>\n",
              "    </tr>\n",
              "    <tr>\n",
              "      <th>1</th>\n",
              "      <td>Buick Skylark 320</td>\n",
              "      <td>15.0</td>\n",
              "      <td>8</td>\n",
              "      <td>350.0</td>\n",
              "      <td>165.0</td>\n",
              "      <td>3693.0</td>\n",
              "      <td>11.5</td>\n",
              "      <td>70</td>\n",
              "      <td>US</td>\n",
              "    </tr>\n",
              "    <tr>\n",
              "      <th>2</th>\n",
              "      <td>Plymouth Satellite</td>\n",
              "      <td>18.0</td>\n",
              "      <td>8</td>\n",
              "      <td>318.0</td>\n",
              "      <td>150.0</td>\n",
              "      <td>3436.0</td>\n",
              "      <td>11.0</td>\n",
              "      <td>70</td>\n",
              "      <td>US</td>\n",
              "    </tr>\n",
              "    <tr>\n",
              "      <th>3</th>\n",
              "      <td>AMC Rebel SST</td>\n",
              "      <td>16.0</td>\n",
              "      <td>8</td>\n",
              "      <td>304.0</td>\n",
              "      <td>150.0</td>\n",
              "      <td>3433.0</td>\n",
              "      <td>12.0</td>\n",
              "      <td>70</td>\n",
              "      <td>US</td>\n",
              "    </tr>\n",
              "    <tr>\n",
              "      <th>4</th>\n",
              "      <td>Ford Torino</td>\n",
              "      <td>17.0</td>\n",
              "      <td>8</td>\n",
              "      <td>302.0</td>\n",
              "      <td>140.0</td>\n",
              "      <td>3449.0</td>\n",
              "      <td>10.5</td>\n",
              "      <td>70</td>\n",
              "      <td>US</td>\n",
              "    </tr>\n",
              "  </tbody>\n",
              "</table>\n",
              "</div>"
            ],
            "text/plain": [
              "                         Car   MPG  Cylinders  Displacement  Horsepower  \\\n",
              "0  Chevrolet Chevelle Malibu  18.0          8         307.0       130.0   \n",
              "1          Buick Skylark 320  15.0          8         350.0       165.0   \n",
              "2         Plymouth Satellite  18.0          8         318.0       150.0   \n",
              "3              AMC Rebel SST  16.0          8         304.0       150.0   \n",
              "4                Ford Torino  17.0          8         302.0       140.0   \n",
              "\n",
              "   Weight  Acceleration  Model Origin  \n",
              "0  3504.0          12.0     70     US  \n",
              "1  3693.0          11.5     70     US  \n",
              "2  3436.0          11.0     70     US  \n",
              "3  3433.0          12.0     70     US  \n",
              "4  3449.0          10.5     70     US  "
            ]
          },
          "execution_count": 3,
          "metadata": {},
          "output_type": "execute_result"
        }
      ],
      "source": [
        "df_preview = pd.read_csv(path, sep = ';')\n",
        "df_preview.head()"
      ]
    },
    {
      "cell_type": "code",
      "execution_count": 4,
      "id": "8f518dd1-6296-46b1-9fb3-cbbb97da322e",
      "metadata": {
        "colab": {
          "base_uri": "https://localhost:8080/"
        },
        "id": "8f518dd1-6296-46b1-9fb3-cbbb97da322e",
        "outputId": "ab1c3a95-e095-4397-88b6-c459dba178a0"
      },
      "outputs": [
        {
          "name": "stdout",
          "output_type": "stream",
          "text": [
            "<class 'pandas.core.frame.DataFrame'>\n",
            "RangeIndex: 406 entries, 0 to 405\n",
            "Data columns (total 9 columns):\n",
            " #   Column        Non-Null Count  Dtype  \n",
            "---  ------        --------------  -----  \n",
            " 0   Car           406 non-null    object \n",
            " 1   MPG           406 non-null    float64\n",
            " 2   Cylinders     406 non-null    int64  \n",
            " 3   Displacement  406 non-null    float64\n",
            " 4   Horsepower    406 non-null    float64\n",
            " 5   Weight        406 non-null    float64\n",
            " 6   Acceleration  406 non-null    float64\n",
            " 7   Model         406 non-null    int64  \n",
            " 8   Origin        406 non-null    object \n",
            "dtypes: float64(5), int64(2), object(2)\n",
            "memory usage: 28.7+ KB\n"
          ]
        }
      ],
      "source": [
        "df_preview.info()"
      ]
    },
    {
      "cell_type": "markdown",
      "id": "43de7b2e-ff4f-47ed-89d3-77dab4144c5a",
      "metadata": {
        "id": "43de7b2e-ff4f-47ed-89d3-77dab4144c5a"
      },
      "source": [
        "# using pandas"
      ]
    },
    {
      "cell_type": "markdown",
      "id": "ea279e87-7af2-475c-9c2c-5c5aa7cfb525",
      "metadata": {
        "id": "ea279e87-7af2-475c-9c2c-5c5aa7cfb525"
      },
      "source": [
        "In this part, I will import the functions from my lib.py file, to test the functions for importing the dataset, returning data descriptive statistics and data visualizations"
      ]
    },
    {
      "cell_type": "markdown",
      "id": "dd4d6506-c949-4c21-a911-b4104fbd94a9",
      "metadata": {
        "id": "dd4d6506-c949-4c21-a911-b4104fbd94a9"
      },
      "source": [
        "This part of code is similar to the scripts in script.py"
      ]
    },
    {
      "cell_type": "code",
      "execution_count": 5,
      "id": "34a8c726-2d45-4bf1-8591-d11fd8519787",
      "metadata": {
        "id": "34a8c726-2d45-4bf1-8591-d11fd8519787"
      },
      "outputs": [],
      "source": [
        "\n",
        "df_path = 'https://raw.githubusercontent.com/yabeizeng1121/Mini_Project5/main/cars.csv'"
      ]
    },
    {
      "cell_type": "code",
      "execution_count": 6,
      "id": "3r-CdiCwllMW",
      "metadata": {
        "colab": {
          "base_uri": "https://localhost:8080/",
          "height": 206
        },
        "id": "3r-CdiCwllMW",
        "outputId": "57e21360-1d5b-478c-96c1-0ef911a83b7f"
      },
      "outputs": [
        {
          "data": {
            "text/html": [
              "<div>\n",
              "<style scoped>\n",
              "    .dataframe tbody tr th:only-of-type {\n",
              "        vertical-align: middle;\n",
              "    }\n",
              "\n",
              "    .dataframe tbody tr th {\n",
              "        vertical-align: top;\n",
              "    }\n",
              "\n",
              "    .dataframe thead th {\n",
              "        text-align: right;\n",
              "    }\n",
              "</style>\n",
              "<table border=\"1\" class=\"dataframe\">\n",
              "  <thead>\n",
              "    <tr style=\"text-align: right;\">\n",
              "      <th></th>\n",
              "      <th>Car</th>\n",
              "      <th>MPG</th>\n",
              "      <th>Cylinders</th>\n",
              "      <th>Displacement</th>\n",
              "      <th>Horsepower</th>\n",
              "      <th>Weight</th>\n",
              "      <th>Acceleration</th>\n",
              "      <th>Model</th>\n",
              "      <th>Origin</th>\n",
              "    </tr>\n",
              "  </thead>\n",
              "  <tbody>\n",
              "    <tr>\n",
              "      <th>0</th>\n",
              "      <td>Chevrolet Chevelle Malibu</td>\n",
              "      <td>18.0</td>\n",
              "      <td>8</td>\n",
              "      <td>307.0</td>\n",
              "      <td>130.0</td>\n",
              "      <td>3504.0</td>\n",
              "      <td>12.0</td>\n",
              "      <td>70</td>\n",
              "      <td>US</td>\n",
              "    </tr>\n",
              "    <tr>\n",
              "      <th>1</th>\n",
              "      <td>Buick Skylark 320</td>\n",
              "      <td>15.0</td>\n",
              "      <td>8</td>\n",
              "      <td>350.0</td>\n",
              "      <td>165.0</td>\n",
              "      <td>3693.0</td>\n",
              "      <td>11.5</td>\n",
              "      <td>70</td>\n",
              "      <td>US</td>\n",
              "    </tr>\n",
              "    <tr>\n",
              "      <th>2</th>\n",
              "      <td>Plymouth Satellite</td>\n",
              "      <td>18.0</td>\n",
              "      <td>8</td>\n",
              "      <td>318.0</td>\n",
              "      <td>150.0</td>\n",
              "      <td>3436.0</td>\n",
              "      <td>11.0</td>\n",
              "      <td>70</td>\n",
              "      <td>US</td>\n",
              "    </tr>\n",
              "    <tr>\n",
              "      <th>3</th>\n",
              "      <td>AMC Rebel SST</td>\n",
              "      <td>16.0</td>\n",
              "      <td>8</td>\n",
              "      <td>304.0</td>\n",
              "      <td>150.0</td>\n",
              "      <td>3433.0</td>\n",
              "      <td>12.0</td>\n",
              "      <td>70</td>\n",
              "      <td>US</td>\n",
              "    </tr>\n",
              "    <tr>\n",
              "      <th>4</th>\n",
              "      <td>Ford Torino</td>\n",
              "      <td>17.0</td>\n",
              "      <td>8</td>\n",
              "      <td>302.0</td>\n",
              "      <td>140.0</td>\n",
              "      <td>3449.0</td>\n",
              "      <td>10.5</td>\n",
              "      <td>70</td>\n",
              "      <td>US</td>\n",
              "    </tr>\n",
              "  </tbody>\n",
              "</table>\n",
              "</div>"
            ],
            "text/plain": [
              "                         Car   MPG  Cylinders  Displacement  Horsepower  \\\n",
              "0  Chevrolet Chevelle Malibu  18.0          8         307.0       130.0   \n",
              "1          Buick Skylark 320  15.0          8         350.0       165.0   \n",
              "2         Plymouth Satellite  18.0          8         318.0       150.0   \n",
              "3              AMC Rebel SST  16.0          8         304.0       150.0   \n",
              "4                Ford Torino  17.0          8         302.0       140.0   \n",
              "\n",
              "   Weight  Acceleration  Model Origin  \n",
              "0  3504.0          12.0     70     US  \n",
              "1  3693.0          11.5     70     US  \n",
              "2  3436.0          11.0     70     US  \n",
              "3  3433.0          12.0     70     US  \n",
              "4  3449.0          10.5     70     US  "
            ]
          },
          "execution_count": 6,
          "metadata": {},
          "output_type": "execute_result"
        }
      ],
      "source": [
        "#NBVAL_CHECK_OUTPUT\n",
        "my_df = pd.read_csv(df_path, sep = ';')\n",
        "my_df.head()"
      ]
    },
    {
      "cell_type": "code",
      "execution_count": 7,
      "id": "d3de3267-ead2-48ca-8f34-26fe8f8a44d3",
      "metadata": {
        "id": "d3de3267-ead2-48ca-8f34-26fe8f8a44d3"
      },
      "outputs": [],
      "source": [
        "#NBVAL_CHECK_OUTPUT\n",
        "def load_data(data_path):\n",
        "    my_data = pd.read_csv(data_path, sep=';')\n",
        "    return my_data"
      ]
    },
    {
      "cell_type": "code",
      "execution_count": 8,
      "id": "61f5896e-a551-4e3e-a547-f71ccccabf9b",
      "metadata": {
        "colab": {
          "base_uri": "https://localhost:8080/"
        },
        "id": "61f5896e-a551-4e3e-a547-f71ccccabf9b",
        "outputId": "3469f1a6-e165-41ab-d14f-e75e5d12820c"
      },
      "outputs": [
        {
          "name": "stdout",
          "output_type": "stream",
          "text": [
            "              MPG   Cylinders  Displacement  Horsepower       Weight  \\\n",
            "count  406.000000  406.000000    406.000000  406.000000   406.000000   \n",
            "mean    23.051232    5.475369    194.779557  103.529557  2979.413793   \n",
            "std      8.401777    1.712160    104.922458   40.520659   847.004328   \n",
            "min      0.000000    3.000000     68.000000    0.000000  1613.000000   \n",
            "25%     17.000000    4.000000    105.000000   75.000000  2226.500000   \n",
            "50%     22.350000    4.000000    151.000000   93.500000  2822.500000   \n",
            "75%     29.000000    8.000000    302.000000  129.000000  3618.250000   \n",
            "max     46.600000    8.000000    455.000000  230.000000  5140.000000   \n",
            "\n",
            "       Acceleration       Model  \n",
            "count    406.000000  406.000000  \n",
            "mean      15.519704   75.921182  \n",
            "std        2.803359    3.748737  \n",
            "min        8.000000   70.000000  \n",
            "25%       13.700000   73.000000  \n",
            "50%       15.500000   76.000000  \n",
            "75%       17.175000   79.000000  \n",
            "max       24.800000   82.000000  \n"
          ]
        }
      ],
      "source": [
        "#NBVAL_CHECK_OUTPUT\n",
        "def data_summary(data):\n",
        "    main_sum = data.describe()\n",
        "    return main_sum\n",
        "\n",
        "\n",
        "def main():\n",
        "    my_df = load_data(df_path)\n",
        "    print(data_summary(my_df))\n",
        "\n",
        "\n",
        "if __name__ == \"__main__\":\n",
        "    main()"
      ]
    },
    {
      "cell_type": "code",
      "execution_count": 9,
      "id": "1f78a6de-a1bf-4ecb-828a-eb4358f83518",
      "metadata": {
        "id": "1f78a6de-a1bf-4ecb-828a-eb4358f83518"
      },
      "outputs": [],
      "source": [
        "#NBVAL_CHECK_OUTPUT\n",
        "\n",
        "def data_visual(data):\n",
        "    with warnings.catch_warnings():\n",
        "        warnings.simplefilter(\"ignore\")\n",
        "        sns.set_theme(style=\"ticks\", palette=\"pastel\")\n",
        "        sns.boxplot(x='Origin', y='Weight', palette=\"Blues\", data=data)\n",
        "        plt.show()\n"
      ]
    },
    {
      "cell_type": "code",
      "execution_count": 10,
      "id": "2Mg-2Gg9l1F_",
      "metadata": {
        "colab": {
          "base_uri": "https://localhost:8080/",
          "height": 458
        },
        "id": "2Mg-2Gg9l1F_",
        "outputId": "99bf39cb-8dbc-45f0-d79a-84d1e79a7c30"
      },
      "outputs": [
        {
          "data": {
            "image/png": "[encoded data removed]",
            "text/plain": [
              "<Figure size 640x480 with 1 Axes>"
            ]
          },
          "metadata": {},
          "output_type": "display_data"
        }
      ],
      "source": [
        "#NBVAL_CHECK_OUTPUT\n",
        "\n",
        "def main():\n",
        "    data_visual(my_df)\n",
        "\n",
        "\n",
        "if __name__ == \"__main__\":\n",
        "    main()"
      ]
    },
    {
      "cell_type": "markdown",
      "id": "6065bd87-7079-485a-8146-1158f27fe025",
      "metadata": {
        "id": "6065bd87-7079-485a-8146-1158f27fe025"
      },
      "source": [
        "## More data manipulation\n"
      ]
    },
    {
      "cell_type": "code",
      "execution_count": 11,
      "id": "7cf7f483-fca8-4115-9bb1-a1af8186fce2",
      "metadata": {
        "colab": {
          "base_uri": "https://localhost:8080/",
          "height": 206
        },
        "id": "7cf7f483-fca8-4115-9bb1-a1af8186fce2",
        "outputId": "852627d8-3134-4cd0-b9e6-8db1f1f6eb90"
      },
      "outputs": [
        {
          "data": {
            "text/html": [
              "<div>\n",
              "<style scoped>\n",
              "    .dataframe tbody tr th:only-of-type {\n",
              "        vertical-align: middle;\n",
              "    }\n",
              "\n",
              "    .dataframe tbody tr th {\n",
              "        vertical-align: top;\n",
              "    }\n",
              "\n",
              "    .dataframe thead th {\n",
              "        text-align: right;\n",
              "    }\n",
              "</style>\n",
              "<table border=\"1\" class=\"dataframe\">\n",
              "  <thead>\n",
              "    <tr style=\"text-align: right;\">\n",
              "      <th></th>\n",
              "      <th>Random_Value1</th>\n",
              "      <th>Random_Value2</th>\n",
              "      <th>Random_Category</th>\n",
              "    </tr>\n",
              "  </thead>\n",
              "  <tbody>\n",
              "    <tr>\n",
              "      <th>0</th>\n",
              "      <td>52</td>\n",
              "      <td>13.662133</td>\n",
              "      <td>C</td>\n",
              "    </tr>\n",
              "    <tr>\n",
              "      <th>1</th>\n",
              "      <td>93</td>\n",
              "      <td>70.891100</td>\n",
              "      <td>C</td>\n",
              "    </tr>\n",
              "    <tr>\n",
              "      <th>2</th>\n",
              "      <td>15</td>\n",
              "      <td>55.281998</td>\n",
              "      <td>C</td>\n",
              "    </tr>\n",
              "    <tr>\n",
              "      <th>3</th>\n",
              "      <td>72</td>\n",
              "      <td>29.651014</td>\n",
              "      <td>D</td>\n",
              "    </tr>\n",
              "    <tr>\n",
              "      <th>4</th>\n",
              "      <td>61</td>\n",
              "      <td>41.978086</td>\n",
              "      <td>A</td>\n",
              "    </tr>\n",
              "  </tbody>\n",
              "</table>\n",
              "</div>"
            ],
            "text/plain": [
              "   Random_Value1  Random_Value2 Random_Category\n",
              "0             52      13.662133               C\n",
              "1             93      70.891100               C\n",
              "2             15      55.281998               C\n",
              "3             72      29.651014               D\n",
              "4             61      41.978086               A"
            ]
          },
          "execution_count": 11,
          "metadata": {},
          "output_type": "execute_result"
        }
      ],
      "source": [
        "# Generating random dataset with same number of rows as the cars dataset\n",
        "num_rows = len(my_df)\n",
        "\n",
        "# Random data generation\n",
        "np.random.seed(42)  # for reproducibility\n",
        "random_data = {\n",
        "    'Random_Value1': np.random.randint(1, 101, num_rows),  # Random integers between 1 and 100\n",
        "    'Random_Value2': np.random.rand(num_rows) * 100,  # Random floats between 0 and 100\n",
        "    'Random_Category': np.random.choice(['A', 'B', 'C', 'D'], num_rows)  # Random selection from categories A, B, C, D\n",
        "}\n",
        "\n",
        "random_df = pd.DataFrame(random_data)\n",
        "\n",
        "random_df.head()\n"
      ]
    },
    {
      "cell_type": "code",
      "execution_count": 12,
      "id": "nQJkMmKxCm56",
      "metadata": {
        "colab": {
          "base_uri": "https://localhost:8080/",
          "height": 365
        },
        "id": "nQJkMmKxCm56",
        "outputId": "9355fc8f-a38a-451b-f2f0-c0b9eec1669c"
      },
      "outputs": [
        {
          "data": {
            "text/html": [
              "<div>\n",
              "<style scoped>\n",
              "    .dataframe tbody tr th:only-of-type {\n",
              "        vertical-align: middle;\n",
              "    }\n",
              "\n",
              "    .dataframe tbody tr th {\n",
              "        vertical-align: top;\n",
              "    }\n",
              "\n",
              "    .dataframe thead th {\n",
              "        text-align: right;\n",
              "    }\n",
              "</style>\n",
              "<table border=\"1\" class=\"dataframe\">\n",
              "  <thead>\n",
              "    <tr style=\"text-align: right;\">\n",
              "      <th></th>\n",
              "      <th>Car</th>\n",
              "      <th>MPG</th>\n",
              "      <th>Cylinders</th>\n",
              "      <th>Displacement</th>\n",
              "      <th>Horsepower</th>\n",
              "      <th>Weight</th>\n",
              "      <th>Acceleration</th>\n",
              "      <th>Model</th>\n",
              "      <th>Origin</th>\n",
              "      <th>Random_Value1</th>\n",
              "      <th>Random_Value2</th>\n",
              "      <th>Random_Category</th>\n",
              "    </tr>\n",
              "  </thead>\n",
              "  <tbody>\n",
              "    <tr>\n",
              "      <th>0</th>\n",
              "      <td>Chevrolet Chevelle Malibu</td>\n",
              "      <td>18.0</td>\n",
              "      <td>8</td>\n",
              "      <td>307.0</td>\n",
              "      <td>130.0</td>\n",
              "      <td>3504.0</td>\n",
              "      <td>12.0</td>\n",
              "      <td>70</td>\n",
              "      <td>US</td>\n",
              "      <td>52</td>\n",
              "      <td>13.662133</td>\n",
              "      <td>C</td>\n",
              "    </tr>\n",
              "    <tr>\n",
              "      <th>1</th>\n",
              "      <td>Buick Skylark 320</td>\n",
              "      <td>15.0</td>\n",
              "      <td>8</td>\n",
              "      <td>350.0</td>\n",
              "      <td>165.0</td>\n",
              "      <td>3693.0</td>\n",
              "      <td>11.5</td>\n",
              "      <td>70</td>\n",
              "      <td>US</td>\n",
              "      <td>93</td>\n",
              "      <td>70.891100</td>\n",
              "      <td>C</td>\n",
              "    </tr>\n",
              "    <tr>\n",
              "      <th>2</th>\n",
              "      <td>Plymouth Satellite</td>\n",
              "      <td>18.0</td>\n",
              "      <td>8</td>\n",
              "      <td>318.0</td>\n",
              "      <td>150.0</td>\n",
              "      <td>3436.0</td>\n",
              "      <td>11.0</td>\n",
              "      <td>70</td>\n",
              "      <td>US</td>\n",
              "      <td>15</td>\n",
              "      <td>55.281998</td>\n",
              "      <td>C</td>\n",
              "    </tr>\n",
              "    <tr>\n",
              "      <th>3</th>\n",
              "      <td>AMC Rebel SST</td>\n",
              "      <td>16.0</td>\n",
              "      <td>8</td>\n",
              "      <td>304.0</td>\n",
              "      <td>150.0</td>\n",
              "      <td>3433.0</td>\n",
              "      <td>12.0</td>\n",
              "      <td>70</td>\n",
              "      <td>US</td>\n",
              "      <td>72</td>\n",
              "      <td>29.651014</td>\n",
              "      <td>D</td>\n",
              "    </tr>\n",
              "    <tr>\n",
              "      <th>4</th>\n",
              "      <td>Ford Torino</td>\n",
              "      <td>17.0</td>\n",
              "      <td>8</td>\n",
              "      <td>302.0</td>\n",
              "      <td>140.0</td>\n",
              "      <td>3449.0</td>\n",
              "      <td>10.5</td>\n",
              "      <td>70</td>\n",
              "      <td>US</td>\n",
              "      <td>61</td>\n",
              "      <td>41.978086</td>\n",
              "      <td>A</td>\n",
              "    </tr>\n",
              "  </tbody>\n",
              "</table>\n",
              "</div>"
            ],
            "text/plain": [
              "                         Car   MPG  Cylinders  Displacement  Horsepower  \\\n",
              "0  Chevrolet Chevelle Malibu  18.0          8         307.0       130.0   \n",
              "1          Buick Skylark 320  15.0          8         350.0       165.0   \n",
              "2         Plymouth Satellite  18.0          8         318.0       150.0   \n",
              "3              AMC Rebel SST  16.0          8         304.0       150.0   \n",
              "4                Ford Torino  17.0          8         302.0       140.0   \n",
              "\n",
              "   Weight  Acceleration  Model Origin  Random_Value1  Random_Value2  \\\n",
              "0  3504.0          12.0     70     US             52      13.662133   \n",
              "1  3693.0          11.5     70     US             93      70.891100   \n",
              "2  3436.0          11.0     70     US             15      55.281998   \n",
              "3  3433.0          12.0     70     US             72      29.651014   \n",
              "4  3449.0          10.5     70     US             61      41.978086   \n",
              "\n",
              "  Random_Category  \n",
              "0               C  \n",
              "1               C  \n",
              "2               C  \n",
              "3               D  \n",
              "4               A  "
            ]
          },
          "execution_count": 12,
          "metadata": {},
          "output_type": "execute_result"
        }
      ],
      "source": [
        "# Merging the two datasets\n",
        "merged_df = pd.concat([my_df, random_df], axis=1)\n",
        "\n",
        "merged_df.head()\n"
      ]
    }
  ],
  "metadata": {
    "colab": {
      "provenance": []
    },
    "kernelspec": {
      "display_name": "Python 3 (ipykernel)",
      "language": "python",
      "name": "python3"
    },
    "language_info": {
      "codemirror_mode": {
        "name": "ipython",
        "version": 3
      },
      "file_extension": ".py",
      "mimetype": "text/x-python",
      "name": "python",
      "nbconvert_exporter": "python",
      "pygments_lexer": "ipython3",
      "version": "3.8.10"
    }
  },
  "nbformat": 4,
  "nbformat_minor": 5
}
